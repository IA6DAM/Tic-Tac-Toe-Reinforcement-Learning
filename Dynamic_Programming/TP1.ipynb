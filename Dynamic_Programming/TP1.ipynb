{
 "cells": [
  {
   "cell_type": "markdown",
   "id": "d74615a8-09d2-4ddf-b6cc-3d389b1f1bb0",
   "metadata": {},
   "source": [
    "<h1><center> LAB:1 Dynamic Programming For Tic-Tac-Toe</h1>"
   ]
  },
  {
   "cell_type": "code",
   "execution_count": 2,
   "id": "6b3f8753-fe65-45e8-b7d3-52fba27bb334",
   "metadata": {},
   "outputs": [],
   "source": [
    "class TicTacToe:\n",
    "    def __init__(self):\n",
    "        self.board = [' '] * 9  # 3x3 board represented as a list to simplify the represene\n",
    "        self.current_winner = None \n",
    "\n",
    "    def print_board(self):\n",
    "        # 3x3 tic-tac-toe board ofr our game \n",
    "        for row in [self.board[i*3:(i+1)*3] for i in range(3)]:\n",
    "            print('| ' + ' | '.join(row) + ' |')\n",
    "\n",
    "    def available_moves(self):\n",
    "        return [i for i, spot in enumerate(self.board) if spot == ' ']\n",
    "\n",
    "    def empty_squares(self):\n",
    "        return ' ' in self.board\n",
    "\n",
    "    def num_empty_squares(self):\n",
    "        return self.board.count(' ')\n",
    "\n",
    "    def make_move(self, square, letter):\n",
    "        if self.board[square] == ' ':\n",
    "            self.board[square] = letter\n",
    "            if self.winner(square, letter):\n",
    "                self.current_winner = letter\n",
    "            return True\n",
    "        return False\n",
    "\n",
    "    def winner(self, square, letter):\n",
    "        # Check rows, columns, and diagonals for a win\n",
    "        row_ind = square // 3\n",
    "        row = self.board[row_ind*3:(row_ind+1)*3]\n",
    "        if all([spot == letter for spot in row]):\n",
    "            return True\n",
    "        col_ind = square % 3\n",
    "        column = [self.board[col_ind+i*3] for i in range(3)]\n",
    "        if all([spot == letter for spot in column]):\n",
    "            return True\n",
    "        # Check diagonals\n",
    "        if square % 2 == 0:\n",
    "            diagonal1 = [self.board[i] for i in [0, 4, 8]]\n",
    "            if all([spot == letter for spot in diagonal1]):\n",
    "                return True\n",
    "            diagonal2 = [self.board[i] for i in [2, 4, 6]]\n",
    "            if all([spot == letter for spot in diagonal2]):\n",
    "                return True\n",
    "        return False\n",
    "\n",
    "    def reset(self):\n",
    "        self.board = [' '] * 9\n",
    "        self.current_winner = None\n"
   ]
  },
  {
   "cell_type": "code",
   "execution_count": 3,
   "id": "ba9bf708-05cc-4235-b663-0d9ecd6e75a1",
   "metadata": {},
   "outputs": [],
   "source": [
    "import random\n",
    "## this class to define the random play for the agent\n",
    "class RandomAgent:\n",
    "    def __init__(self, letter):\n",
    "        self.letter = letter  # X or O\n",
    "\n",
    "    def get_move(self, game):\n",
    "        available_moves = game.available_moves()\n",
    "         # Choose a random move\n",
    "        return random.choice(available_moves) "
   ]
  },
  {
   "cell_type": "code",
   "execution_count": 4,
   "id": "6733359f-53bd-4edc-9d87-229e53db9400",
   "metadata": {},
   "outputs": [
    {
     "name": "stdout",
     "output_type": "stream",
     "text": [
      "Random Policy Agent Playing Alone:\n",
      "X makes a move to square 5\n",
      "|   |   |   |\n",
      "|   |   | X |\n",
      "|   |   |   |\n",
      "O makes a move to square 7\n",
      "|   |   |   |\n",
      "|   |   | X |\n",
      "|   | O |   |\n",
      "X makes a move to square 0\n",
      "| X |   |   |\n",
      "|   |   | X |\n",
      "|   | O |   |\n",
      "O makes a move to square 4\n",
      "| X |   |   |\n",
      "|   | O | X |\n",
      "|   | O |   |\n",
      "X makes a move to square 8\n",
      "| X |   |   |\n",
      "|   | O | X |\n",
      "|   | O | X |\n",
      "O makes a move to square 1\n",
      "| X | O |   |\n",
      "|   | O | X |\n",
      "|   | O | X |\n",
      "O wins!\n"
     ]
    },
    {
     "data": {
      "text/plain": [
       "'O'"
      ]
     },
     "execution_count": 4,
     "metadata": {},
     "output_type": "execute_result"
    }
   ],
   "source": [
    "def play_game_random_agent():\n",
    "    game = TicTacToe()\n",
    "    random_agent_x = RandomAgent('X')\n",
    "    random_agent_o = RandomAgent('O')\n",
    "\n",
    "     # X starts first\n",
    "    letter = 'X' \n",
    "    while game.empty_squares():\n",
    "        if letter == 'X':\n",
    "            move = random_agent_x.get_move(game)\n",
    "        else:\n",
    "            move = random_agent_o.get_move(game)\n",
    "\n",
    "        if game.make_move(move, letter):\n",
    "            print(f'{letter} makes a move to square {move}')\n",
    "            game.print_board()\n",
    "\n",
    "            if game.current_winner:\n",
    "                print(f'{letter} wins!')\n",
    "                return letter  # Return the winner\n",
    "            letter = 'O' if letter == 'X' else 'X'  # Switch player\n",
    "\n",
    "    print('It\\'s a tie!')\n",
    "\n",
    "print(\"Random Policy Agent Playing Alone:\")\n",
    "play_game_random_agent()\n"
   ]
  },
  {
   "cell_type": "code",
   "execution_count": 5,
   "id": "6bc38dfb",
   "metadata": {},
   "outputs": [],
   "source": [
    "class ExhaustiveAgent():\n",
    " def __init__(self, letter):\n",
    "  self.letter = letter  # X or O\n",
    "\n",
    " def get_move(self, game):\n",
    "     available_moves = game.available_moves()\n",
    "         # Choose a random move\n",
    "     return random.choice(available_moves) \n",
    " \n"
   ]
  },
  {
   "cell_type": "code",
   "execution_count": 6,
   "id": "5e295895-517c-458e-a11a-97af8aa0cac3",
   "metadata": {},
   "outputs": [],
   "source": [
    "class MinMaxAgent:\n",
    "    def __init__(self, letter):\n",
    "        self.letter = letter  # X or O\n",
    "    # Random move if it's the first move\n",
    "    def get_move(self, game):\n",
    "        if len(game.available_moves()) == 9:\n",
    "            return random.choice(game.available_moves())  \n",
    "        else:\n",
    "            return self.minimax(game, self.letter)['position']\n",
    "    # The player playing as this agent\n",
    "    def minimax(self, state, player):\n",
    "        max_player = self.letter  \n",
    "        other_player = 'O' if player == 'X' else 'X'\n",
    "\n",
    "        # Base case: check for winner\n",
    "        if state.current_winner == other_player:\n",
    "            return {'position': None, 'score': 1 * (state.num_empty_squares() + 1) if other_player == max_player else -1 * (state.num_empty_squares() + 1)}\n",
    "        elif not state.empty_squares():\n",
    "            return {'position': None, 'score': 0}\n",
    "\n",
    "        # Initialize move list\n",
    "        if player == max_player:\n",
    "            best = {'position': None, 'score': -float('inf')}\n",
    "        else:\n",
    "            best = {'position': None, 'score': float('inf')}\n",
    "\n",
    "        for possible_move in state.available_moves():\n",
    "            state.make_move(possible_move, player)\n",
    "            sim_score = self.minimax(state, other_player)  # Recurse\n",
    "\n",
    "            state.board[possible_move] = ' '  # Undo the move\n",
    "            state.current_winner = None  # Reset winner\n",
    "            sim_score['position'] = possible_move  # Update move\n",
    "\n",
    "            if player == max_player:  # Maximize the score\n",
    "                if sim_score['score'] > best['score']:\n",
    "                    best = sim_score\n",
    "            else:  # Minimize the score\n",
    "                if sim_score['score'] < best['score']:\n",
    "                    best = sim_score\n",
    "\n",
    "        return best\n",
    "\n",
    "\n"
   ]
  },
  {
   "cell_type": "code",
   "execution_count": 12,
   "id": "9bf399fa-aade-4905-b6ee-ce531b468b67",
   "metadata": {},
   "outputs": [],
   "source": [
    "def play_game_agent():\n",
    "    game = TicTacToe()\n",
    "    backtracking_agent_x = BacktrackingAgent('X')\n",
    "    backtracking_agent_o = random_agent_o = RandomAgent('O')\n",
    "\n",
    "    letter = 'X'  # X starts first\n",
    "    while game.empty_squares():\n",
    "        if letter == 'X':\n",
    "            move = backtracking_agent_x.get_move(game)\n",
    "        else:\n",
    "            move = backtracking_agent_o.get_move(game)\n",
    "\n",
    "        if game.make_move(move, letter):\n",
    "            print(f'{letter} makes a move to square {move}')\n",
    "            game.print_board()\n",
    "\n",
    "            if game.current_winner:\n",
    "                print(f'{letter} wins!')\n",
    "                return letter  # Return the winner\n",
    "            letter = 'O' if letter == 'X' else 'X'  # Switch player\n",
    "\n",
    "    print('It\\'s a tie!')\n",
    "\n",
    "\n"
   ]
  },
  {
   "cell_type": "code",
   "execution_count": 23,
   "id": "c1acb55b-4c7d-433c-9495-2b2853866ebb",
   "metadata": {},
   "outputs": [],
   "source": []
  },
  {
   "cell_type": "code",
   "execution_count": 29,
   "id": "ee54f1b1-cecd-4b43-9b1a-932a4f545cf8",
   "metadata": {},
   "outputs": [],
   "source": []
  },
  {
   "cell_type": "code",
   "execution_count": 17,
   "id": "96e97dcc-5b6c-4db8-a2b8-665b4f54b002",
   "metadata": {},
   "outputs": [
    {
     "name": "stdout",
     "output_type": "stream",
     "text": [
      "Backtracking Agent Playing :\n",
      "X makes a move to square 8\n",
      "|   |   |   |\n",
      "|   |   |   |\n",
      "|   |   | X |\n",
      "O makes a move to square 2\n",
      "|   |   | O |\n",
      "|   |   |   |\n",
      "|   |   | X |\n",
      "X makes a move to square 0\n",
      "| X |   | O |\n",
      "|   |   |   |\n",
      "|   |   | X |\n",
      "O makes a move to square 5\n",
      "| X |   | O |\n",
      "|   |   | O |\n",
      "|   |   | X |\n",
      "X makes a move to square 4\n",
      "| X |   | O |\n",
      "|   | X | O |\n",
      "|   |   | X |\n",
      "X wins!\n"
     ]
    },
    {
     "data": {
      "text/plain": [
       "'X'"
      ]
     },
     "execution_count": 17,
     "metadata": {},
     "output_type": "execute_result"
    }
   ],
   "source": [
    "print(\"MinMax Agent Playing :\")\n",
    "play_game_backtracking_agent()"
   ]
  },
  {
   "cell_type": "code",
   "execution_count": null,
   "id": "55c7f4b1-2403-445a-8770-b76a3cac9fcb",
   "metadata": {},
   "outputs": [],
   "source": []
  },
  {
   "cell_type": "code",
   "execution_count": null,
   "id": "47e82a18-4f35-458a-8d30-ae29b85d8474",
   "metadata": {},
   "outputs": [],
   "source": []
  }
 ],
 "metadata": {
  "kernelspec": {
   "display_name": "Python 3",
   "language": "python",
   "name": "python3"
  },
  "language_info": {
   "codemirror_mode": {
    "name": "ipython",
    "version": 3
   },
   "file_extension": ".py",
   "mimetype": "text/x-python",
   "name": "python",
   "nbconvert_exporter": "python",
   "pygments_lexer": "ipython3",
   "version": "3.9.13"
  }
 },
 "nbformat": 4,
 "nbformat_minor": 5
}
