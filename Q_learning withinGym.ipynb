{
 "cells": [
  {
   "cell_type": "code",
   "execution_count": 1,
   "id": "6c1011a8-bfb1-47ce-a39f-ee7f80326d30",
   "metadata": {},
   "outputs": [
    {
     "name": "stdout",
     "output_type": "stream",
     "text": [
      "Collecting gym==0.21Note: you may need to restart the kernel to use updated packages.\n",
      "\n",
      "  Downloading gym-0.21.0.tar.gz (1.5 MB)\n",
      "     ---------------------------------------- 0.0/1.5 MB ? eta -:--:--\n",
      "      --------------------------------------- 0.0/1.5 MB 1.3 MB/s eta 0:00:02\n",
      "     - -------------------------------------- 0.1/1.5 MB 787.7 kB/s eta 0:00:02\n",
      "     ---- ----------------------------------- 0.2/1.5 MB 1.3 MB/s eta 0:00:02\n",
      "     ----- ---------------------------------- 0.2/1.5 MB 1.4 MB/s eta 0:00:01\n",
      "     ----- ---------------------------------- 0.2/1.5 MB 1.4 MB/s eta 0:00:01\n",
      "     ----- ---------------------------------- 0.2/1.5 MB 1.4 MB/s eta 0:00:01\n",
      "     ------ --------------------------------- 0.2/1.5 MB 846.9 kB/s eta 0:00:02\n",
      "     ------ --------------------------------- 0.2/1.5 MB 846.9 kB/s eta 0:00:02\n",
      "     ------------ --------------------------- 0.5/1.5 MB 1.3 MB/s eta 0:00:01\n",
      "     -------------- ------------------------- 0.6/1.5 MB 1.2 MB/s eta 0:00:01\n",
      "     ----------------- ---------------------- 0.7/1.5 MB 1.4 MB/s eta 0:00:01\n",
      "     ------------------ --------------------- 0.7/1.5 MB 1.5 MB/s eta 0:00:01\n",
      "     ------------------ --------------------- 0.7/1.5 MB 1.5 MB/s eta 0:00:01\n",
      "     ----------------------- ---------------- 0.9/1.5 MB 1.4 MB/s eta 0:00:01\n",
      "     ----------------------- ---------------- 0.9/1.5 MB 1.4 MB/s eta 0:00:01\n",
      "     -------------------------------- ------- 1.2/1.5 MB 1.8 MB/s eta 0:00:01\n",
      "     -------------------------------- ------- 1.2/1.5 MB 1.7 MB/s eta 0:00:01\n",
      "     -------------------------------- ------- 1.2/1.5 MB 1.7 MB/s eta 0:00:01\n",
      "     ----------------------------------- ---- 1.4/1.5 MB 1.6 MB/s eta 0:00:01\n",
      "     -------------------------------------- - 1.5/1.5 MB 1.7 MB/s eta 0:00:01\n",
      "     ---------------------------------------  1.5/1.5 MB 1.7 MB/s eta 0:00:01\n",
      "     ---------------------------------------  1.5/1.5 MB 1.7 MB/s eta 0:00:01\n",
      "     ---------------------------------------  1.5/1.5 MB 1.7 MB/s eta 0:00:01\n",
      "     ---------------------------------------  1.5/1.5 MB 1.7 MB/s eta 0:00:01\n",
      "     ---------------------------------------- 1.5/1.5 MB 1.4 MB/s eta 0:00:00\n",
      "  Preparing metadata (setup.py): started\n",
      "  Preparing metadata (setup.py): finished with status 'done'\n",
      "Requirement already satisfied: numpy>=1.18.0 in c:\\users\\user\\appdata\\local\\programs\\python\\python311\\lib\\site-packages (from gym==0.21) (1.25.2)\n",
      "Requirement already satisfied: cloudpickle>=1.2.0 in c:\\users\\user\\appdata\\local\\programs\\python\\python311\\lib\\site-packages (from gym==0.21) (3.0.0)\n",
      "Building wheels for collected packages: gym\n",
      "  Building wheel for gym (setup.py): started\n",
      "  Building wheel for gym (setup.py): finished with status 'done'\n",
      "  Created wheel for gym: filename=gym-0.21.0-py3-none-any.whl size=1616807 sha256=318308958f91add20100fd195daee17f55e4f8682a503a7a4e30bac9ff79431d\n",
      "  Stored in directory: c:\\users\\user\\appdata\\local\\pip\\cache\\wheels\\d9\\98\\e6\\0699972fb5749befdec731c2f3058fd853150326a4b94e2cc2\n",
      "Successfully built gym\n",
      "Installing collected packages: gym\n",
      "Successfully installed gym-0.21.0\n"
     ]
    },
    {
     "name": "stderr",
     "output_type": "stream",
     "text": [
      "\n",
      "[notice] A new release of pip is available: 24.0 -> 24.2\n",
      "[notice] To update, run: C:\\Users\\User\\AppData\\Local\\Programs\\Python\\Python311\\python.exe -m pip install --upgrade pip\n"
     ]
    }
   ],
   "source": [
    "pip install gym==0.21"
   ]
  },
  {
   "cell_type": "code",
   "execution_count": null,
   "id": "1ee1015d-d76f-41a3-96cd-da71974fcfb3",
   "metadata": {},
   "outputs": [],
   "source": []
  }
 ],
 "metadata": {
  "kernelspec": {
   "display_name": "Python 3 (ipykernel)",
   "language": "python",
   "name": "python3"
  },
  "language_info": {
   "codemirror_mode": {
    "name": "ipython",
    "version": 3
   },
   "file_extension": ".py",
   "mimetype": "text/x-python",
   "name": "python",
   "nbconvert_exporter": "python",
   "pygments_lexer": "ipython3",
   "version": "3.11.4"
  }
 },
 "nbformat": 4,
 "nbformat_minor": 5
}
